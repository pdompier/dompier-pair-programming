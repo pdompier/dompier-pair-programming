{
 "cells": [
  {
   "cell_type": "code",
   "execution_count": 2,
   "id": "2695f905-229e-451b-9363-822d69d9c4ad",
   "metadata": {},
   "outputs": [],
   "source": [
    "def convert_to_meters(feet,inches):\n",
    "    total_in = feet*12 + inches\n",
    "    in_to_m = total_in * 0.0254\n",
    "    return in_to_m"
   ]
  },
  {
   "cell_type": "markdown",
   "id": "36eb7ed5-3908-4f3c-a572-f2ae559e7264",
   "metadata": {},
   "source": [
    "Comments: Looks great! Very efficient and easy to follow. convert_to_meters could have a name that describes the order of the inputs more. "
   ]
  },
  {
   "cell_type": "code",
   "execution_count": 14,
   "id": "a6259fe5-8f8c-459f-b238-ba218d1a564c",
   "metadata": {},
   "outputs": [
    {
     "data": {
      "text/plain": [
       "3.9623999999999997"
      ]
     },
     "execution_count": 14,
     "metadata": {},
     "output_type": "execute_result"
    }
   ],
   "source": [
    "# test 1 \n",
    "feet = 12\n",
    "inches = 12\n",
    "convert_to_meters(feet, inches)"
   ]
  },
  {
   "cell_type": "code",
   "execution_count": 15,
   "id": "bdc2b0d6-0432-4663-9710-a737463fbae4",
   "metadata": {},
   "outputs": [
    {
     "data": {
      "text/plain": [
       "0.0"
      ]
     },
     "execution_count": 15,
     "metadata": {},
     "output_type": "execute_result"
    }
   ],
   "source": [
    "# test 2 \n",
    "feet = 0\n",
    "inches = 0\n",
    "convert_to_meters(feet, inches)"
   ]
  }
 ],
 "metadata": {
  "kernelspec": {
   "display_name": "Python 3 (ipykernel)",
   "language": "python",
   "name": "python3"
  },
  "language_info": {
   "codemirror_mode": {
    "name": "ipython",
    "version": 3
   },
   "file_extension": ".py",
   "mimetype": "text/x-python",
   "name": "python",
   "nbconvert_exporter": "python",
   "pygments_lexer": "ipython3",
   "version": "3.9.13"
  }
 },
 "nbformat": 4,
 "nbformat_minor": 5
}
