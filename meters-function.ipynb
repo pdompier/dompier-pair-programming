{
 "cells": [
  {
   "cell_type": "code",
   "execution_count": 5,
   "id": "2695f905-229e-451b-9363-822d69d9c4ad",
   "metadata": {},
   "outputs": [],
   "source": [
    "def convert_to_meters(feet,inches):\n",
    "    total_in = feet*12 + inches\n",
    "    in_to_m = total_in * 0.0254\n",
    "    return in_to_m"
   ]
  }
 ],
 "metadata": {
  "kernelspec": {
   "display_name": "Python 3 (ipykernel)",
   "language": "python",
   "name": "python3"
  },
  "language_info": {
   "codemirror_mode": {
    "name": "ipython",
    "version": 3
   },
   "file_extension": ".py",
   "mimetype": "text/x-python",
   "name": "python",
   "nbconvert_exporter": "python",
   "pygments_lexer": "ipython3",
   "version": "3.9.13"
  }
 },
 "nbformat": 4,
 "nbformat_minor": 5
}
